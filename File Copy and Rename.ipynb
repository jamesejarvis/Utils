{
 "cells": [
  {
   "cell_type": "code",
   "execution_count": 2,
   "id": "11ed1f14-b7b1-4ec9-a7a1-35a66fc8e735",
   "metadata": {},
   "outputs": [],
   "source": [
    "import numpy as np\n",
    "import pandas as pd\n",
    "import os\n",
    "import shutil"
   ]
  },
  {
   "cell_type": "code",
   "execution_count": 5,
   "id": "6f22828e-cf96-403a-a085-18e1bdc56e1c",
   "metadata": {},
   "outputs": [],
   "source": [
    "ScriptDF = pd.read_csv('File Map Punks.csv')"
   ]
  },
  {
   "cell_type": "code",
   "execution_count": 6,
   "id": "dfafd6e5-b612-408c-a361-be21855fea7b",
   "metadata": {},
   "outputs": [
    {
     "data": {
      "text/plain": [
       "Index(['Input', 'Output Path', 'Output File'], dtype='object')"
      ]
     },
     "execution_count": 6,
     "metadata": {},
     "output_type": "execute_result"
    }
   ],
   "source": [
    "ScriptDF.columns"
   ]
  },
  {
   "cell_type": "code",
   "execution_count": 7,
   "id": "9145ea24-b8c4-4dc7-af7e-64d98001ef7b",
   "metadata": {},
   "outputs": [
    {
     "data": {
      "text/html": [
       "<div>\n",
       "<style scoped>\n",
       "    .dataframe tbody tr th:only-of-type {\n",
       "        vertical-align: middle;\n",
       "    }\n",
       "\n",
       "    .dataframe tbody tr th {\n",
       "        vertical-align: top;\n",
       "    }\n",
       "\n",
       "    .dataframe thead th {\n",
       "        text-align: right;\n",
       "    }\n",
       "</style>\n",
       "<table border=\"1\" class=\"dataframe\">\n",
       "  <thead>\n",
       "    <tr style=\"text-align: right;\">\n",
       "      <th></th>\n",
       "      <th>Input</th>\n",
       "      <th>Output Path</th>\n",
       "      <th>Output File</th>\n",
       "    </tr>\n",
       "  </thead>\n",
       "  <tbody>\n",
       "    <tr>\n",
       "      <th>0</th>\n",
       "      <td>D:\\Users\\james\\Gan Punks\\Punkwalls\\Punkwall - ...</td>\n",
       "      <td>D:\\Users\\james\\Gan Punks\\Punkwalls\\Punkwall - ...</td>\n",
       "      <td>Punkwall_0000.jpg</td>\n",
       "    </tr>\n",
       "    <tr>\n",
       "      <th>1</th>\n",
       "      <td>D:\\Users\\james\\Gan Punks\\Punkwalls\\Punkwall - ...</td>\n",
       "      <td>D:\\Users\\james\\Gan Punks\\Punkwalls\\Punkwall - ...</td>\n",
       "      <td>Punkwall_0001.jpg</td>\n",
       "    </tr>\n",
       "    <tr>\n",
       "      <th>2</th>\n",
       "      <td>D:\\Users\\james\\Gan Punks\\Punkwalls\\Punkwall - ...</td>\n",
       "      <td>D:\\Users\\james\\Gan Punks\\Punkwalls\\Punkwall - ...</td>\n",
       "      <td>Punkwall_0002.jpg</td>\n",
       "    </tr>\n",
       "    <tr>\n",
       "      <th>3</th>\n",
       "      <td>D:\\Users\\james\\Gan Punks\\Punkwalls\\Punkwall - ...</td>\n",
       "      <td>D:\\Users\\james\\Gan Punks\\Punkwalls\\Punkwall - ...</td>\n",
       "      <td>Punkwall_0003.jpg</td>\n",
       "    </tr>\n",
       "    <tr>\n",
       "      <th>4</th>\n",
       "      <td>D:\\Users\\james\\Gan Punks\\Punkwalls\\Punkwall - ...</td>\n",
       "      <td>D:\\Users\\james\\Gan Punks\\Punkwalls\\Punkwall - ...</td>\n",
       "      <td>Punkwall_0004.jpg</td>\n",
       "    </tr>\n",
       "  </tbody>\n",
       "</table>\n",
       "</div>"
      ],
      "text/plain": [
       "                                               Input  \\\n",
       "0  D:\\Users\\james\\Gan Punks\\Punkwalls\\Punkwall - ...   \n",
       "1  D:\\Users\\james\\Gan Punks\\Punkwalls\\Punkwall - ...   \n",
       "2  D:\\Users\\james\\Gan Punks\\Punkwalls\\Punkwall - ...   \n",
       "3  D:\\Users\\james\\Gan Punks\\Punkwalls\\Punkwall - ...   \n",
       "4  D:\\Users\\james\\Gan Punks\\Punkwalls\\Punkwall - ...   \n",
       "\n",
       "                                         Output Path        Output File  \n",
       "0  D:\\Users\\james\\Gan Punks\\Punkwalls\\Punkwall - ...  Punkwall_0000.jpg  \n",
       "1  D:\\Users\\james\\Gan Punks\\Punkwalls\\Punkwall - ...  Punkwall_0001.jpg  \n",
       "2  D:\\Users\\james\\Gan Punks\\Punkwalls\\Punkwall - ...  Punkwall_0002.jpg  \n",
       "3  D:\\Users\\james\\Gan Punks\\Punkwalls\\Punkwall - ...  Punkwall_0003.jpg  \n",
       "4  D:\\Users\\james\\Gan Punks\\Punkwalls\\Punkwall - ...  Punkwall_0004.jpg  "
      ]
     },
     "execution_count": 7,
     "metadata": {},
     "output_type": "execute_result"
    }
   ],
   "source": [
    "ScriptDF.head()"
   ]
  },
  {
   "cell_type": "code",
   "execution_count": 8,
   "id": "490d1c0b-2db1-454e-b528-7eabf6a343d9",
   "metadata": {},
   "outputs": [
    {
     "data": {
      "text/plain": [
       "10000"
      ]
     },
     "execution_count": 8,
     "metadata": {},
     "output_type": "execute_result"
    }
   ],
   "source": [
    "ScriptDF.shape[0]"
   ]
  },
  {
   "cell_type": "code",
   "execution_count": 9,
   "id": "3903c6ba-c841-4435-a133-306e28782dd2",
   "metadata": {},
   "outputs": [
    {
     "data": {
      "text/plain": [
       "'D:\\\\Users\\\\james\\\\Gan Punks\\\\Punkwalls\\\\Punkwall - FINAL LOAD\\\\Punkwall_22153.jpg'"
      ]
     },
     "execution_count": 9,
     "metadata": {},
     "output_type": "execute_result"
    }
   ],
   "source": [
    "ScriptDF.iloc[1]['Input']"
   ]
  },
  {
   "cell_type": "code",
   "execution_count": 10,
   "id": "065b0aca-442a-4bf9-a6aa-08e4fbbb8645",
   "metadata": {},
   "outputs": [
    {
     "name": "stdout",
     "output_type": "stream",
     "text": [
      "D:\\Users\\james\\Gan Punks\\Punkwalls\\Punkwall - FINAL LOAD\\Punkwall_06017.jpg\n",
      "D:\\Users\\james\\Gan Punks\\Punkwalls\\Punkwall - FINAL LOAD\\Punkwall_18846.jpg\n",
      "D:\\Users\\james\\Gan Punks\\Punkwalls\\Punkwall - FINAL LOAD\\Punkwall_08195.jpg\n",
      "D:\\Users\\james\\Gan Punks\\Punkwalls\\Punkwall - FINAL LOAD\\Punkwall_02513.jpg\n",
      "D:\\Users\\james\\Gan Punks\\Punkwalls\\Punkwall - FINAL LOAD\\Punkwall_13830.jpg\n",
      "D:\\Users\\james\\Gan Punks\\Punkwalls\\Punkwall - FINAL LOAD\\Punkwall_18612.jpg\n",
      "D:\\Users\\james\\Gan Punks\\Punkwalls\\Punkwall - FINAL LOAD\\Punkwall_03579.jpg\n",
      "D:\\Users\\james\\Gan Punks\\Punkwalls\\Punkwall - FINAL LOAD\\Punkwall_22475.jpg\n",
      "D:\\Users\\james\\Gan Punks\\Punkwalls\\Punkwall - FINAL LOAD\\Punkwall_27338.jpg\n",
      "D:\\Users\\james\\Gan Punks\\Punkwalls\\Punkwall - FINAL LOAD\\Punkwall_12000.jpg\n",
      "D:\\Users\\james\\Gan Punks\\Punkwalls\\Punkwall - FINAL LOAD\\Punkwall_05776.jpg\n",
      "D:\\Users\\james\\Gan Punks\\Punkwalls\\Punkwall - FINAL LOAD\\Punkwall_03492.jpg\n",
      "D:\\Users\\james\\Gan Punks\\Punkwalls\\Punkwall - FINAL LOAD\\Punkwall_08138.jpg\n",
      "D:\\Users\\james\\Gan Punks\\Punkwalls\\Punkwall - FINAL LOAD\\Punkwall_09563.jpg\n",
      "D:\\Users\\james\\Gan Punks\\Punkwalls\\Punkwall - FINAL LOAD\\Punkwall_21883.jpg\n",
      "D:\\Users\\james\\Gan Punks\\Punkwalls\\Punkwall - FINAL LOAD\\Punkwall_22907.jpg\n",
      "D:\\Users\\james\\Gan Punks\\Punkwalls\\Punkwall - FINAL LOAD\\Punkwall_07400.jpg\n",
      "D:\\Users\\james\\Gan Punks\\Punkwalls\\Punkwall - FINAL LOAD\\Punkwall_19186.jpg\n",
      "D:\\Users\\james\\Gan Punks\\Punkwalls\\Punkwall - FINAL LOAD\\Punkwall_13825.jpg\n",
      "D:\\Users\\james\\Gan Punks\\Punkwalls\\Punkwall - FINAL LOAD\\Punkwall_03709.jpg\n",
      "D:\\Users\\james\\Gan Punks\\Punkwalls\\Punkwall - FINAL LOAD\\Punkwall_19497.jpg\n",
      "D:\\Users\\james\\Gan Punks\\Punkwalls\\Punkwall - FINAL LOAD\\Punkwall_05187.jpg\n",
      "D:\\Users\\james\\Gan Punks\\Punkwalls\\Punkwall - FINAL LOAD\\Punkwall_24260.jpg\n",
      "D:\\Users\\james\\Gan Punks\\Punkwalls\\Punkwall - FINAL LOAD\\Punkwall_25264.jpg\n",
      "D:\\Users\\james\\Gan Punks\\Punkwalls\\Punkwall - FINAL LOAD\\Punkwall_13271.jpg\n",
      "D:\\Users\\james\\Gan Punks\\Punkwalls\\Punkwall - FINAL LOAD\\Punkwall_22179.jpg\n",
      "D:\\Users\\james\\Gan Punks\\Punkwalls\\Punkwall - FINAL LOAD\\Punkwall_01837.jpg\n",
      "D:\\Users\\james\\Gan Punks\\Punkwalls\\Punkwall - FINAL LOAD\\Punkwall_02546.jpg\n",
      "D:\\Users\\james\\Gan Punks\\Punkwalls\\Punkwall - FINAL LOAD\\Punkwall_12011.jpg\n",
      "D:\\Users\\james\\Gan Punks\\Punkwalls\\Punkwall - FINAL LOAD\\Punkwall_03123.jpg\n",
      "D:\\Users\\james\\Gan Punks\\Punkwalls\\Punkwall - FINAL LOAD\\Punkwall_18506.jpg\n",
      "D:\\Users\\james\\Gan Punks\\Punkwalls\\Punkwall - FINAL LOAD\\Punkwall_10446.jpg\n",
      "D:\\Users\\james\\Gan Punks\\Punkwalls\\Punkwall - FINAL LOAD\\Punkwall_26374.jpg\n",
      "D:\\Users\\james\\Gan Punks\\Punkwalls\\Punkwall - FINAL LOAD\\Punkwall_18070.jpg\n",
      "D:\\Users\\james\\Gan Punks\\Punkwalls\\Punkwall - FINAL LOAD\\Punkwall_06360.jpg\n",
      "D:\\Users\\james\\Gan Punks\\Punkwalls\\Punkwall - FINAL LOAD\\Punkwall_22836.jpg\n",
      "D:\\Users\\james\\Gan Punks\\Punkwalls\\Punkwall - FINAL LOAD\\Punkwall_01686.jpg\n",
      "D:\\Users\\james\\Gan Punks\\Punkwalls\\Punkwall - FINAL LOAD\\Punkwall_20318.jpg\n",
      "D:\\Users\\james\\Gan Punks\\Punkwalls\\Punkwall - FINAL LOAD\\Punkwall_14274.jpg\n",
      "D:\\Users\\james\\Gan Punks\\Punkwalls\\Punkwall - FINAL LOAD\\Punkwall_26448.jpg\n",
      "D:\\Users\\james\\Gan Punks\\Punkwalls\\Punkwall - FINAL LOAD\\Punkwall_12316.jpg\n",
      "D:\\Users\\james\\Gan Punks\\Punkwalls\\Punkwall - FINAL LOAD\\Punkwall_18672.jpg\n",
      "D:\\Users\\james\\Gan Punks\\Punkwalls\\Punkwall - FINAL LOAD\\Punkwall_24604.jpg\n",
      "D:\\Users\\james\\Gan Punks\\Punkwalls\\Punkwall - FINAL LOAD\\Punkwall_15383.jpg\n",
      "D:\\Users\\james\\Gan Punks\\Punkwalls\\Punkwall - FINAL LOAD\\Punkwall_03309.jpg\n",
      "D:\\Users\\james\\Gan Punks\\Punkwalls\\Punkwall - FINAL LOAD\\Punkwall_04085.jpg\n",
      "D:\\Users\\james\\Gan Punks\\Punkwalls\\Punkwall - FINAL LOAD\\Punkwall_22845.jpg\n",
      "D:\\Users\\james\\Gan Punks\\Punkwalls\\Punkwall - FINAL LOAD\\Punkwall_13368.jpg\n",
      "D:\\Users\\james\\Gan Punks\\Punkwalls\\Punkwall - FINAL LOAD\\Punkwall_11773.jpg\n",
      "D:\\Users\\james\\Gan Punks\\Punkwalls\\Punkwall - FINAL LOAD\\Punkwall_11776.jpg\n"
     ]
    }
   ],
   "source": [
    "i = 0\n",
    "\n",
    "for i in range(ScriptDF.shape[0]):\n",
    "    \n",
    "    #i = i + 1\n",
    "    \n",
    "    Input = ScriptDF.iloc[i]['Input']\n",
    "    Output = ScriptDF.iloc[i]['Output Path'] + '/' +  ScriptDF.iloc[i]['Output File']\n",
    "    #Output = ScriptDF.iloc[i]['Output Path'] + ScriptDF.iloc[i]['Output File']\n",
    "    \n",
    "    if os.path.exists(Input):\n",
    "        shutil.copy(Input, Output)\n",
    "        \n",
    "        if (i) % 200 == 0:\n",
    "            print(Input)           \n",
    "    "
   ]
  },
  {
   "cell_type": "code",
   "execution_count": null,
   "id": "a13d5032-b765-4ab6-9d64-7c5b8a3e8354",
   "metadata": {},
   "outputs": [],
   "source": []
  }
 ],
 "metadata": {
  "kernelspec": {
   "display_name": "Python 3 (ipykernel)",
   "language": "python",
   "name": "python3"
  },
  "language_info": {
   "codemirror_mode": {
    "name": "ipython",
    "version": 3
   },
   "file_extension": ".py",
   "mimetype": "text/x-python",
   "name": "python",
   "nbconvert_exporter": "python",
   "pygments_lexer": "ipython3",
   "version": "3.7.11"
  }
 },
 "nbformat": 4,
 "nbformat_minor": 5
}
