{
 "cells": [
  {
   "cell_type": "code",
   "execution_count": 18,
   "id": "915e0827-8c39-450b-9366-3a084c70fede",
   "metadata": {},
   "outputs": [],
   "source": [
    "import numpy as np\n",
    "import pandas as pd\n",
    "import os\n",
    "import shutil\n",
    "from os import walk\n",
    "import zipfile"
   ]
  },
  {
   "cell_type": "code",
   "execution_count": 19,
   "id": "f7c8e39a-5583-43de-bffc-4903550d3e5e",
   "metadata": {},
   "outputs": [],
   "source": [
    "myInputPath = 'C://Users/JJarvis-ADM/OneDrive/Documents/Tick Data/TrueFX/'\n",
    "myOutputPath = 'C://Users/JJarvis-ADM/OneDrive/Documents/Tick Data/TrueFX/Ticks/'"
   ]
  },
  {
   "cell_type": "code",
   "execution_count": 20,
   "id": "60237ff5-c921-4c7b-ba01-7e1eab57e5eb",
   "metadata": {},
   "outputs": [],
   "source": [
    "FileList = []\n",
    "for (dirpath, dirnames, filenames) in walk(myInputPath):\n",
    "    FileList.extend(filenames)\n",
    "    break"
   ]
  },
  {
   "cell_type": "code",
   "execution_count": 21,
   "id": "18c7484d-51ae-462e-82ef-6f2bb16c872c",
   "metadata": {},
   "outputs": [],
   "source": [
    "#FileList"
   ]
  },
  {
   "cell_type": "code",
   "execution_count": null,
   "id": "de4c0f89-892a-4a5e-aadd-accbe0aabefc",
   "metadata": {},
   "outputs": [
    {
     "name": "stdout",
     "output_type": "stream",
     "text": [
      "C://Users/JJarvis-ADM/OneDrive/Documents/Tick Data/TrueFX/AUDJPY-2022-01.zip\n",
      "C://Users/JJarvis-ADM/OneDrive/Documents/Tick Data/TrueFX/AUDJPY-2022-02.zip\n",
      "C://Users/JJarvis-ADM/OneDrive/Documents/Tick Data/TrueFX/AUDJPY-2022-03.zip\n",
      "C://Users/JJarvis-ADM/OneDrive/Documents/Tick Data/TrueFX/AUDJPY-2022-04.zip\n",
      "C://Users/JJarvis-ADM/OneDrive/Documents/Tick Data/TrueFX/AUDJPY-2022-05.zip\n",
      "C://Users/JJarvis-ADM/OneDrive/Documents/Tick Data/TrueFX/AUDJPY-2022-06.zip\n",
      "C://Users/JJarvis-ADM/OneDrive/Documents/Tick Data/TrueFX/AUDJPY-2022-07.zip\n",
      "C://Users/JJarvis-ADM/OneDrive/Documents/Tick Data/TrueFX/AUDJPY-2022-08.zip\n",
      "C://Users/JJarvis-ADM/OneDrive/Documents/Tick Data/TrueFX/AUDJPY-2022-09.zip\n",
      "C://Users/JJarvis-ADM/OneDrive/Documents/Tick Data/TrueFX/AUDJPY-2022-10.zip\n",
      "C://Users/JJarvis-ADM/OneDrive/Documents/Tick Data/TrueFX/AUDJPY-2022-11.zip\n"
     ]
    }
   ],
   "source": [
    "for f in FileList:\n",
    "    \n",
    "    path_to_zip_file = myInputPath + f\n",
    "    \n",
    "    print(path_to_zip_file)\n",
    "    \n",
    "    with zipfile.ZipFile(path_to_zip_file, 'r') as zip_ref:\n",
    "        \n",
    "        zip_ref.extractall(myOutputPath)"
   ]
  },
  {
   "cell_type": "code",
   "execution_count": null,
   "id": "fd54c90d-5642-4925-92ab-516ba4d80d95",
   "metadata": {},
   "outputs": [],
   "source": []
  },
  {
   "cell_type": "code",
   "execution_count": null,
   "id": "c5a11447-a9c4-4f5d-86a5-685f1fce714d",
   "metadata": {},
   "outputs": [],
   "source": [
    "import zipfile\n",
    "with zipfile.ZipFile(path_to_zip_file, 'r') as zip_ref:\n",
    "    zip_ref.extractall(directory_to_extract_to)"
   ]
  }
 ],
 "metadata": {
  "kernelspec": {
   "display_name": "Python 3 (ipykernel)",
   "language": "python",
   "name": "python3"
  },
  "language_info": {
   "codemirror_mode": {
    "name": "ipython",
    "version": 3
   },
   "file_extension": ".py",
   "mimetype": "text/x-python",
   "name": "python",
   "nbconvert_exporter": "python",
   "pygments_lexer": "ipython3",
   "version": "3.9.15"
  }
 },
 "nbformat": 4,
 "nbformat_minor": 5
}
