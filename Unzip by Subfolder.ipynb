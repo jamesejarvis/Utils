{
 "cells": [
  {
   "cell_type": "code",
   "execution_count": null,
   "id": "915e0827-8c39-450b-9366-3a084c70fede",
   "metadata": {},
   "outputs": [],
   "source": [
    "import numpy as np\n",
    "import pandas as pd\n",
    "import os\n",
    "import shutil\n",
    "from os import walk\n",
    "import zipfile"
   ]
  },
  {
   "cell_type": "code",
   "execution_count": null,
   "id": "f7c8e39a-5583-43de-bffc-4903550d3e5e",
   "metadata": {},
   "outputs": [],
   "source": [
    "myInputPath = 'C://Tick Data/Zips'\n",
    "myOutputPath = 'C://Tick Data/Ticks/'"
   ]
  },
  {
   "cell_type": "code",
   "execution_count": null,
   "id": "60237ff5-c921-4c7b-ba01-7e1eab57e5eb",
   "metadata": {},
   "outputs": [],
   "source": [
    "FileList = []\n",
    "for (dirpath, dirnames, filenames) in walk(myInputPath):\n",
    "    FileList.extend(filenames)\n",
    "    break"
   ]
  },
  {
   "cell_type": "code",
   "execution_count": null,
   "id": "de4c0f89-892a-4a5e-aadd-accbe0aabefc",
   "metadata": {},
   "outputs": [],
   "source": [
    "for f in FileList:\n",
    "    \n",
    "    path_to_zip_file = myInputPath + f\n",
    "    \n",
    "    print(path_to_zip_file)\n",
    "    \n",
    "    with zipfile.ZipFile(path_to_zip_file, 'r') as zip_ref:\n",
    "        \n",
    "        zip_ref.extractall(myOutputPath)"
   ]
  }
 ],
 "metadata": {
  "kernelspec": {
   "display_name": "Python 3 (ipykernel)",
   "language": "python",
   "name": "python3"
  },
  "language_info": {
   "codemirror_mode": {
    "name": "ipython",
    "version": 3
   },
   "file_extension": ".py",
   "mimetype": "text/x-python",
   "name": "python",
   "nbconvert_exporter": "python",
   "pygments_lexer": "ipython3",
   "version": "3.9.15"
  }
 },
 "nbformat": 4,
 "nbformat_minor": 5
}
