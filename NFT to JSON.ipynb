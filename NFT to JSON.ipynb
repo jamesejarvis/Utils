{
 "cells": [
  {
   "cell_type": "code",
   "execution_count": 1,
   "id": "ea8435ce-5872-4d59-8d2d-984c6cb8d4bc",
   "metadata": {},
   "outputs": [],
   "source": [
    "import pandas as pd\n",
    "import numpy as np\n",
    "import json"
   ]
  },
  {
   "cell_type": "code",
   "execution_count": 2,
   "id": "478c2461-a97b-43c8-95de-d961e885c070",
   "metadata": {},
   "outputs": [],
   "source": [
    "ScriptDF = pd.read_excel('D:/Users/james/Gan Punks/Punkwalls/MASTER - Punkwall Load Parameters - JSON - 10000.xlsx')\n",
    "#ScriptDF = ScriptDF.head(10)"
   ]
  },
  {
   "cell_type": "code",
   "execution_count": 3,
   "id": "d8a19540-8734-48c0-9335-ac61f0a040c4",
   "metadata": {},
   "outputs": [
    {
     "data": {
      "text/html": [
       "<div>\n",
       "<style scoped>\n",
       "    .dataframe tbody tr th:only-of-type {\n",
       "        vertical-align: middle;\n",
       "    }\n",
       "\n",
       "    .dataframe tbody tr th {\n",
       "        vertical-align: top;\n",
       "    }\n",
       "\n",
       "    .dataframe thead th {\n",
       "        text-align: right;\n",
       "    }\n",
       "</style>\n",
       "<table border=\"1\" class=\"dataframe\">\n",
       "  <thead>\n",
       "    <tr style=\"text-align: right;\">\n",
       "      <th></th>\n",
       "      <th>description</th>\n",
       "      <th>image</th>\n",
       "      <th>name</th>\n",
       "      <th>Class</th>\n",
       "      <th>Border</th>\n",
       "      <th>Wall</th>\n",
       "      <th>Head</th>\n",
       "      <th>Glasses</th>\n",
       "      <th>Smoking</th>\n",
       "      <th>Facial Hair</th>\n",
       "    </tr>\n",
       "  </thead>\n",
       "  <tbody>\n",
       "    <tr>\n",
       "      <th>0</th>\n",
       "      <td>GAN-made punks - Mosaic tile style - Augmented...</td>\n",
       "      <td>ipfs://QmNTtJGwLtBdCNNyCn7tho37ivGsV15i5TKeepn...</td>\n",
       "      <td>Punkwall_0000</td>\n",
       "      <td>Human</td>\n",
       "      <td>Orange</td>\n",
       "      <td>Marked Gray Concrete Wall</td>\n",
       "      <td>Crewcut, Black</td>\n",
       "      <td>NaN</td>\n",
       "      <td>NaN</td>\n",
       "      <td>Beard</td>\n",
       "    </tr>\n",
       "    <tr>\n",
       "      <th>1</th>\n",
       "      <td>GAN-made punks - Mosaic tile style - Augmented...</td>\n",
       "      <td>ipfs://QmNTtJGwLtBdCNNyCn7tho37ivGsV15i5TKeepn...</td>\n",
       "      <td>Punkwall_0001</td>\n",
       "      <td>Human</td>\n",
       "      <td>Lime</td>\n",
       "      <td>Chipped Gray Plaster Wall</td>\n",
       "      <td>Bald</td>\n",
       "      <td>Shades</td>\n",
       "      <td>NaN</td>\n",
       "      <td>NaN</td>\n",
       "    </tr>\n",
       "    <tr>\n",
       "      <th>2</th>\n",
       "      <td>GAN-made punks - Mosaic tile style - Augmented...</td>\n",
       "      <td>ipfs://QmNTtJGwLtBdCNNyCn7tho37ivGsV15i5TKeepn...</td>\n",
       "      <td>Punkwall_0002</td>\n",
       "      <td>Human</td>\n",
       "      <td>Lime</td>\n",
       "      <td>Blue Marks, Gray Wall</td>\n",
       "      <td>Shoulder Length, Black</td>\n",
       "      <td>NaN</td>\n",
       "      <td>NaN</td>\n",
       "      <td>NaN</td>\n",
       "    </tr>\n",
       "    <tr>\n",
       "      <th>3</th>\n",
       "      <td>GAN-made punks - Mosaic tile style - Augmented...</td>\n",
       "      <td>ipfs://QmNTtJGwLtBdCNNyCn7tho37ivGsV15i5TKeepn...</td>\n",
       "      <td>Punkwall_0003</td>\n",
       "      <td>Human</td>\n",
       "      <td>Pink</td>\n",
       "      <td>Weathered Stone Brick Wall</td>\n",
       "      <td>Officer Cap</td>\n",
       "      <td>Shades</td>\n",
       "      <td>NaN</td>\n",
       "      <td>NaN</td>\n",
       "    </tr>\n",
       "    <tr>\n",
       "      <th>4</th>\n",
       "      <td>GAN-made punks - Mosaic tile style - Augmented...</td>\n",
       "      <td>ipfs://QmNTtJGwLtBdCNNyCn7tho37ivGsV15i5TKeepn...</td>\n",
       "      <td>Punkwall_0004</td>\n",
       "      <td>Human</td>\n",
       "      <td>Teal</td>\n",
       "      <td>Black Tags, White Wall</td>\n",
       "      <td>Crewcut, Black</td>\n",
       "      <td>NaN</td>\n",
       "      <td>NaN</td>\n",
       "      <td>Beard</td>\n",
       "    </tr>\n",
       "  </tbody>\n",
       "</table>\n",
       "</div>"
      ],
      "text/plain": [
       "                                         description  \\\n",
       "0  GAN-made punks - Mosaic tile style - Augmented...   \n",
       "1  GAN-made punks - Mosaic tile style - Augmented...   \n",
       "2  GAN-made punks - Mosaic tile style - Augmented...   \n",
       "3  GAN-made punks - Mosaic tile style - Augmented...   \n",
       "4  GAN-made punks - Mosaic tile style - Augmented...   \n",
       "\n",
       "                                               image           name  Class  \\\n",
       "0  ipfs://QmNTtJGwLtBdCNNyCn7tho37ivGsV15i5TKeepn...  Punkwall_0000  Human   \n",
       "1  ipfs://QmNTtJGwLtBdCNNyCn7tho37ivGsV15i5TKeepn...  Punkwall_0001  Human   \n",
       "2  ipfs://QmNTtJGwLtBdCNNyCn7tho37ivGsV15i5TKeepn...  Punkwall_0002  Human   \n",
       "3  ipfs://QmNTtJGwLtBdCNNyCn7tho37ivGsV15i5TKeepn...  Punkwall_0003  Human   \n",
       "4  ipfs://QmNTtJGwLtBdCNNyCn7tho37ivGsV15i5TKeepn...  Punkwall_0004  Human   \n",
       "\n",
       "   Border                        Wall                    Head Glasses Smoking  \\\n",
       "0  Orange   Marked Gray Concrete Wall          Crewcut, Black     NaN     NaN   \n",
       "1    Lime   Chipped Gray Plaster Wall                    Bald  Shades     NaN   \n",
       "2    Lime       Blue Marks, Gray Wall  Shoulder Length, Black     NaN     NaN   \n",
       "3    Pink  Weathered Stone Brick Wall             Officer Cap  Shades     NaN   \n",
       "4    Teal      Black Tags, White Wall          Crewcut, Black     NaN     NaN   \n",
       "\n",
       "  Facial Hair  \n",
       "0       Beard  \n",
       "1         NaN  \n",
       "2         NaN  \n",
       "3         NaN  \n",
       "4       Beard  "
      ]
     },
     "execution_count": 3,
     "metadata": {},
     "output_type": "execute_result"
    }
   ],
   "source": [
    "ScriptDF.head(5)"
   ]
  },
  {
   "cell_type": "markdown",
   "id": "a1354e28-f2ae-4b02-adbc-f8aaabfde9d5",
   "metadata": {},
   "source": [
    "# Generate JSON in loop"
   ]
  },
  {
   "cell_type": "code",
   "execution_count": 4,
   "id": "d2d577b5-bf01-4e74-8eb9-f18551d084e6",
   "metadata": {},
   "outputs": [
    {
     "ename": "KeyboardInterrupt",
     "evalue": "",
     "output_type": "error",
     "traceback": [
      "\u001b[1;31m---------------------------------------------------------------------------\u001b[0m",
      "\u001b[1;31mKeyboardInterrupt\u001b[0m                         Traceback (most recent call last)",
      "\u001b[1;32m~\\AppData\\Local\\Temp/ipykernel_17188/3080687345.py\u001b[0m in \u001b[0;36m<module>\u001b[1;34m\u001b[0m\n\u001b[0;32m     25\u001b[0m     \u001b[0mIntroDF\u001b[0m \u001b[1;33m=\u001b[0m \u001b[0mScriptRowDF\u001b[0m\u001b[1;33m[\u001b[0m\u001b[1;33m[\u001b[0m\u001b[1;34m'description'\u001b[0m\u001b[1;33m,\u001b[0m \u001b[1;34m'image'\u001b[0m\u001b[1;33m,\u001b[0m \u001b[1;34m'name'\u001b[0m\u001b[1;33m]\u001b[0m\u001b[1;33m]\u001b[0m\u001b[1;33m\u001b[0m\u001b[1;33m\u001b[0m\u001b[0m\n\u001b[0;32m     26\u001b[0m \u001b[1;33m\u001b[0m\u001b[0m\n\u001b[1;32m---> 27\u001b[1;33m     \u001b[0mScriptRowDF\u001b[0m\u001b[1;33m.\u001b[0m\u001b[0mcolumns\u001b[0m\u001b[1;33m=\u001b[0m\u001b[0mpd\u001b[0m\u001b[1;33m.\u001b[0m\u001b[0mMultiIndex\u001b[0m\u001b[1;33m.\u001b[0m\u001b[0mfrom_tuples\u001b[0m\u001b[1;33m(\u001b[0m\u001b[0mcolumns\u001b[0m\u001b[1;33m)\u001b[0m\u001b[1;33m\u001b[0m\u001b[1;33m\u001b[0m\u001b[0m\n\u001b[0m\u001b[0;32m     28\u001b[0m     \u001b[0mScriptRowDF\u001b[0m\u001b[1;33m.\u001b[0m\u001b[0mdropna\u001b[0m\u001b[1;33m(\u001b[0m\u001b[0maxis\u001b[0m\u001b[1;33m=\u001b[0m\u001b[1;36m1\u001b[0m\u001b[1;33m,\u001b[0m \u001b[0minplace\u001b[0m\u001b[1;33m=\u001b[0m\u001b[1;32mTrue\u001b[0m\u001b[1;33m)\u001b[0m\u001b[1;33m\u001b[0m\u001b[1;33m\u001b[0m\u001b[0m\n\u001b[0;32m     29\u001b[0m \u001b[1;33m\u001b[0m\u001b[0m\n",
      "\u001b[1;32md:\\Users\\james\\anaconda3\\lib\\site-packages\\pandas\\core\\indexes\\multi.py\u001b[0m in \u001b[0;36mnew_meth\u001b[1;34m(self_or_cls, *args, **kwargs)\u001b[0m\n\u001b[0;32m    200\u001b[0m             \u001b[0mkwargs\u001b[0m\u001b[1;33m[\u001b[0m\u001b[1;34m\"names\"\u001b[0m\u001b[1;33m]\u001b[0m \u001b[1;33m=\u001b[0m \u001b[0mkwargs\u001b[0m\u001b[1;33m.\u001b[0m\u001b[0mpop\u001b[0m\u001b[1;33m(\u001b[0m\u001b[1;34m\"name\"\u001b[0m\u001b[1;33m)\u001b[0m\u001b[1;33m\u001b[0m\u001b[1;33m\u001b[0m\u001b[0m\n\u001b[0;32m    201\u001b[0m \u001b[1;33m\u001b[0m\u001b[0m\n\u001b[1;32m--> 202\u001b[1;33m         \u001b[1;32mreturn\u001b[0m \u001b[0mmeth\u001b[0m\u001b[1;33m(\u001b[0m\u001b[0mself_or_cls\u001b[0m\u001b[1;33m,\u001b[0m \u001b[1;33m*\u001b[0m\u001b[0margs\u001b[0m\u001b[1;33m,\u001b[0m \u001b[1;33m**\u001b[0m\u001b[0mkwargs\u001b[0m\u001b[1;33m)\u001b[0m\u001b[1;33m\u001b[0m\u001b[1;33m\u001b[0m\u001b[0m\n\u001b[0m\u001b[0;32m    203\u001b[0m \u001b[1;33m\u001b[0m\u001b[0m\n\u001b[0;32m    204\u001b[0m     \u001b[1;32mreturn\u001b[0m \u001b[0mnew_meth\u001b[0m\u001b[1;33m\u001b[0m\u001b[1;33m\u001b[0m\u001b[0m\n",
      "\u001b[1;32md:\\Users\\james\\anaconda3\\lib\\site-packages\\pandas\\core\\indexes\\multi.py\u001b[0m in \u001b[0;36mfrom_tuples\u001b[1;34m(cls, tuples, sortorder, names)\u001b[0m\n\u001b[0;32m    558\u001b[0m             \u001b[0marrays\u001b[0m \u001b[1;33m=\u001b[0m \u001b[0mcast\u001b[0m\u001b[1;33m(\u001b[0m\u001b[0mList\u001b[0m\u001b[1;33m[\u001b[0m\u001b[0mSequence\u001b[0m\u001b[1;33m[\u001b[0m\u001b[0mHashable\u001b[0m\u001b[1;33m]\u001b[0m\u001b[1;33m]\u001b[0m\u001b[1;33m,\u001b[0m \u001b[0marrs\u001b[0m\u001b[1;33m)\u001b[0m\u001b[1;33m\u001b[0m\u001b[1;33m\u001b[0m\u001b[0m\n\u001b[0;32m    559\u001b[0m \u001b[1;33m\u001b[0m\u001b[0m\n\u001b[1;32m--> 560\u001b[1;33m         \u001b[1;32mreturn\u001b[0m \u001b[0mcls\u001b[0m\u001b[1;33m.\u001b[0m\u001b[0mfrom_arrays\u001b[0m\u001b[1;33m(\u001b[0m\u001b[0marrays\u001b[0m\u001b[1;33m,\u001b[0m \u001b[0msortorder\u001b[0m\u001b[1;33m=\u001b[0m\u001b[0msortorder\u001b[0m\u001b[1;33m,\u001b[0m \u001b[0mnames\u001b[0m\u001b[1;33m=\u001b[0m\u001b[0mnames\u001b[0m\u001b[1;33m)\u001b[0m\u001b[1;33m\u001b[0m\u001b[1;33m\u001b[0m\u001b[0m\n\u001b[0m\u001b[0;32m    561\u001b[0m \u001b[1;33m\u001b[0m\u001b[0m\n\u001b[0;32m    562\u001b[0m     \u001b[1;33m@\u001b[0m\u001b[0mclassmethod\u001b[0m\u001b[1;33m\u001b[0m\u001b[1;33m\u001b[0m\u001b[0m\n",
      "\u001b[1;32md:\\Users\\james\\anaconda3\\lib\\site-packages\\pandas\\core\\indexes\\multi.py\u001b[0m in \u001b[0;36mfrom_arrays\u001b[1;34m(cls, arrays, sortorder, names)\u001b[0m\n\u001b[0;32m    481\u001b[0m                 \u001b[1;32mraise\u001b[0m \u001b[0mValueError\u001b[0m\u001b[1;33m(\u001b[0m\u001b[1;34m\"all arrays must be same length\"\u001b[0m\u001b[1;33m)\u001b[0m\u001b[1;33m\u001b[0m\u001b[1;33m\u001b[0m\u001b[0m\n\u001b[0;32m    482\u001b[0m \u001b[1;33m\u001b[0m\u001b[0m\n\u001b[1;32m--> 483\u001b[1;33m         \u001b[0mcodes\u001b[0m\u001b[1;33m,\u001b[0m \u001b[0mlevels\u001b[0m \u001b[1;33m=\u001b[0m \u001b[0mfactorize_from_iterables\u001b[0m\u001b[1;33m(\u001b[0m\u001b[0marrays\u001b[0m\u001b[1;33m)\u001b[0m\u001b[1;33m\u001b[0m\u001b[1;33m\u001b[0m\u001b[0m\n\u001b[0m\u001b[0;32m    484\u001b[0m         \u001b[1;32mif\u001b[0m \u001b[0mnames\u001b[0m \u001b[1;32mis\u001b[0m \u001b[0mlib\u001b[0m\u001b[1;33m.\u001b[0m\u001b[0mno_default\u001b[0m\u001b[1;33m:\u001b[0m\u001b[1;33m\u001b[0m\u001b[1;33m\u001b[0m\u001b[0m\n\u001b[0;32m    485\u001b[0m             \u001b[0mnames\u001b[0m \u001b[1;33m=\u001b[0m \u001b[1;33m[\u001b[0m\u001b[0mgetattr\u001b[0m\u001b[1;33m(\u001b[0m\u001b[0marr\u001b[0m\u001b[1;33m,\u001b[0m \u001b[1;34m\"name\"\u001b[0m\u001b[1;33m,\u001b[0m \u001b[1;32mNone\u001b[0m\u001b[1;33m)\u001b[0m \u001b[1;32mfor\u001b[0m \u001b[0marr\u001b[0m \u001b[1;32min\u001b[0m \u001b[0marrays\u001b[0m\u001b[1;33m]\u001b[0m\u001b[1;33m\u001b[0m\u001b[1;33m\u001b[0m\u001b[0m\n",
      "\u001b[1;32md:\\Users\\james\\anaconda3\\lib\\site-packages\\pandas\\core\\arrays\\categorical.py\u001b[0m in \u001b[0;36mfactorize_from_iterables\u001b[1;34m(iterables)\u001b[0m\n\u001b[0;32m   2780\u001b[0m         \u001b[1;32mreturn\u001b[0m \u001b[1;33m[\u001b[0m\u001b[1;33m]\u001b[0m\u001b[1;33m,\u001b[0m \u001b[1;33m[\u001b[0m\u001b[1;33m]\u001b[0m\u001b[1;33m\u001b[0m\u001b[1;33m\u001b[0m\u001b[0m\n\u001b[0;32m   2781\u001b[0m \u001b[1;33m\u001b[0m\u001b[0m\n\u001b[1;32m-> 2782\u001b[1;33m     \u001b[0mcodes\u001b[0m\u001b[1;33m,\u001b[0m \u001b[0mcategories\u001b[0m \u001b[1;33m=\u001b[0m \u001b[0mzip\u001b[0m\u001b[1;33m(\u001b[0m\u001b[1;33m*\u001b[0m\u001b[1;33m(\u001b[0m\u001b[0mfactorize_from_iterable\u001b[0m\u001b[1;33m(\u001b[0m\u001b[0mit\u001b[0m\u001b[1;33m)\u001b[0m \u001b[1;32mfor\u001b[0m \u001b[0mit\u001b[0m \u001b[1;32min\u001b[0m \u001b[0miterables\u001b[0m\u001b[1;33m)\u001b[0m\u001b[1;33m)\u001b[0m\u001b[1;33m\u001b[0m\u001b[1;33m\u001b[0m\u001b[0m\n\u001b[0m\u001b[0;32m   2783\u001b[0m     \u001b[1;32mreturn\u001b[0m \u001b[0mlist\u001b[0m\u001b[1;33m(\u001b[0m\u001b[0mcodes\u001b[0m\u001b[1;33m)\u001b[0m\u001b[1;33m,\u001b[0m \u001b[0mlist\u001b[0m\u001b[1;33m(\u001b[0m\u001b[0mcategories\u001b[0m\u001b[1;33m)\u001b[0m\u001b[1;33m\u001b[0m\u001b[1;33m\u001b[0m\u001b[0m\n",
      "\u001b[1;32md:\\Users\\james\\anaconda3\\lib\\site-packages\\pandas\\core\\arrays\\categorical.py\u001b[0m in \u001b[0;36m<genexpr>\u001b[1;34m(.0)\u001b[0m\n\u001b[0;32m   2780\u001b[0m         \u001b[1;32mreturn\u001b[0m \u001b[1;33m[\u001b[0m\u001b[1;33m]\u001b[0m\u001b[1;33m,\u001b[0m \u001b[1;33m[\u001b[0m\u001b[1;33m]\u001b[0m\u001b[1;33m\u001b[0m\u001b[1;33m\u001b[0m\u001b[0m\n\u001b[0;32m   2781\u001b[0m \u001b[1;33m\u001b[0m\u001b[0m\n\u001b[1;32m-> 2782\u001b[1;33m     \u001b[0mcodes\u001b[0m\u001b[1;33m,\u001b[0m \u001b[0mcategories\u001b[0m \u001b[1;33m=\u001b[0m \u001b[0mzip\u001b[0m\u001b[1;33m(\u001b[0m\u001b[1;33m*\u001b[0m\u001b[1;33m(\u001b[0m\u001b[0mfactorize_from_iterable\u001b[0m\u001b[1;33m(\u001b[0m\u001b[0mit\u001b[0m\u001b[1;33m)\u001b[0m \u001b[1;32mfor\u001b[0m \u001b[0mit\u001b[0m \u001b[1;32min\u001b[0m \u001b[0miterables\u001b[0m\u001b[1;33m)\u001b[0m\u001b[1;33m)\u001b[0m\u001b[1;33m\u001b[0m\u001b[1;33m\u001b[0m\u001b[0m\n\u001b[0m\u001b[0;32m   2783\u001b[0m     \u001b[1;32mreturn\u001b[0m \u001b[0mlist\u001b[0m\u001b[1;33m(\u001b[0m\u001b[0mcodes\u001b[0m\u001b[1;33m)\u001b[0m\u001b[1;33m,\u001b[0m \u001b[0mlist\u001b[0m\u001b[1;33m(\u001b[0m\u001b[0mcategories\u001b[0m\u001b[1;33m)\u001b[0m\u001b[1;33m\u001b[0m\u001b[1;33m\u001b[0m\u001b[0m\n",
      "\u001b[1;32md:\\Users\\james\\anaconda3\\lib\\site-packages\\pandas\\core\\arrays\\categorical.py\u001b[0m in \u001b[0;36mfactorize_from_iterable\u001b[1;34m(values)\u001b[0m\n\u001b[0;32m   2753\u001b[0m         \u001b[1;31m# but only the resulting categories, the order of which is independent\u001b[0m\u001b[1;33m\u001b[0m\u001b[1;33m\u001b[0m\u001b[1;33m\u001b[0m\u001b[0m\n\u001b[0;32m   2754\u001b[0m         \u001b[1;31m# from ordered. Set ordered to False as default. See GH #15457\u001b[0m\u001b[1;33m\u001b[0m\u001b[1;33m\u001b[0m\u001b[1;33m\u001b[0m\u001b[0m\n\u001b[1;32m-> 2755\u001b[1;33m         \u001b[0mcat\u001b[0m \u001b[1;33m=\u001b[0m \u001b[0mCategorical\u001b[0m\u001b[1;33m(\u001b[0m\u001b[0mvalues\u001b[0m\u001b[1;33m,\u001b[0m \u001b[0mordered\u001b[0m\u001b[1;33m=\u001b[0m\u001b[1;32mFalse\u001b[0m\u001b[1;33m)\u001b[0m\u001b[1;33m\u001b[0m\u001b[1;33m\u001b[0m\u001b[0m\n\u001b[0m\u001b[0;32m   2756\u001b[0m         \u001b[0mcategories\u001b[0m \u001b[1;33m=\u001b[0m \u001b[0mcat\u001b[0m\u001b[1;33m.\u001b[0m\u001b[0mcategories\u001b[0m\u001b[1;33m\u001b[0m\u001b[1;33m\u001b[0m\u001b[0m\n\u001b[0;32m   2757\u001b[0m         \u001b[0mcodes\u001b[0m \u001b[1;33m=\u001b[0m \u001b[0mcat\u001b[0m\u001b[1;33m.\u001b[0m\u001b[0mcodes\u001b[0m\u001b[1;33m\u001b[0m\u001b[1;33m\u001b[0m\u001b[0m\n",
      "\u001b[1;32md:\\Users\\james\\anaconda3\\lib\\site-packages\\pandas\\core\\arrays\\categorical.py\u001b[0m in \u001b[0;36m__init__\u001b[1;34m(self, values, categories, ordered, dtype, fastpath, copy)\u001b[0m\n\u001b[0;32m    430\u001b[0m         \u001b[1;32mif\u001b[0m \u001b[0mdtype\u001b[0m\u001b[1;33m.\u001b[0m\u001b[0mcategories\u001b[0m \u001b[1;32mis\u001b[0m \u001b[1;32mNone\u001b[0m\u001b[1;33m:\u001b[0m\u001b[1;33m\u001b[0m\u001b[1;33m\u001b[0m\u001b[0m\n\u001b[0;32m    431\u001b[0m             \u001b[1;32mtry\u001b[0m\u001b[1;33m:\u001b[0m\u001b[1;33m\u001b[0m\u001b[1;33m\u001b[0m\u001b[0m\n\u001b[1;32m--> 432\u001b[1;33m                 \u001b[0mcodes\u001b[0m\u001b[1;33m,\u001b[0m \u001b[0mcategories\u001b[0m \u001b[1;33m=\u001b[0m \u001b[0mfactorize\u001b[0m\u001b[1;33m(\u001b[0m\u001b[0mvalues\u001b[0m\u001b[1;33m,\u001b[0m \u001b[0msort\u001b[0m\u001b[1;33m=\u001b[0m\u001b[1;32mTrue\u001b[0m\u001b[1;33m)\u001b[0m\u001b[1;33m\u001b[0m\u001b[1;33m\u001b[0m\u001b[0m\n\u001b[0m\u001b[0;32m    433\u001b[0m             \u001b[1;32mexcept\u001b[0m \u001b[0mTypeError\u001b[0m \u001b[1;32mas\u001b[0m \u001b[0merr\u001b[0m\u001b[1;33m:\u001b[0m\u001b[1;33m\u001b[0m\u001b[1;33m\u001b[0m\u001b[0m\n\u001b[0;32m    434\u001b[0m                 \u001b[0mcodes\u001b[0m\u001b[1;33m,\u001b[0m \u001b[0mcategories\u001b[0m \u001b[1;33m=\u001b[0m \u001b[0mfactorize\u001b[0m\u001b[1;33m(\u001b[0m\u001b[0mvalues\u001b[0m\u001b[1;33m,\u001b[0m \u001b[0msort\u001b[0m\u001b[1;33m=\u001b[0m\u001b[1;32mFalse\u001b[0m\u001b[1;33m)\u001b[0m\u001b[1;33m\u001b[0m\u001b[1;33m\u001b[0m\u001b[0m\n",
      "\u001b[1;32md:\\Users\\james\\anaconda3\\lib\\site-packages\\pandas\\core\\algorithms.py\u001b[0m in \u001b[0;36mfactorize\u001b[1;34m(values, sort, na_sentinel, size_hint)\u001b[0m\n\u001b[0;32m    760\u001b[0m \u001b[1;33m\u001b[0m\u001b[0m\n\u001b[0;32m    761\u001b[0m         codes, uniques = factorize_array(\n\u001b[1;32m--> 762\u001b[1;33m             \u001b[0mvalues\u001b[0m\u001b[1;33m,\u001b[0m \u001b[0mna_sentinel\u001b[0m\u001b[1;33m=\u001b[0m\u001b[0mna_sentinel\u001b[0m\u001b[1;33m,\u001b[0m \u001b[0msize_hint\u001b[0m\u001b[1;33m=\u001b[0m\u001b[0msize_hint\u001b[0m\u001b[1;33m,\u001b[0m \u001b[0mna_value\u001b[0m\u001b[1;33m=\u001b[0m\u001b[0mna_value\u001b[0m\u001b[1;33m\u001b[0m\u001b[1;33m\u001b[0m\u001b[0m\n\u001b[0m\u001b[0;32m    763\u001b[0m         )\n\u001b[0;32m    764\u001b[0m \u001b[1;33m\u001b[0m\u001b[0m\n",
      "\u001b[1;32md:\\Users\\james\\anaconda3\\lib\\site-packages\\pandas\\core\\algorithms.py\u001b[0m in \u001b[0;36mfactorize_array\u001b[1;34m(values, na_sentinel, size_hint, na_value, mask)\u001b[0m\n\u001b[0;32m    562\u001b[0m     \u001b[0mtable\u001b[0m \u001b[1;33m=\u001b[0m \u001b[0mhash_klass\u001b[0m\u001b[1;33m(\u001b[0m\u001b[0msize_hint\u001b[0m \u001b[1;32mor\u001b[0m \u001b[0mlen\u001b[0m\u001b[1;33m(\u001b[0m\u001b[0mvalues\u001b[0m\u001b[1;33m)\u001b[0m\u001b[1;33m)\u001b[0m\u001b[1;33m\u001b[0m\u001b[1;33m\u001b[0m\u001b[0m\n\u001b[0;32m    563\u001b[0m     uniques, codes = table.factorize(\n\u001b[1;32m--> 564\u001b[1;33m         \u001b[0mvalues\u001b[0m\u001b[1;33m,\u001b[0m \u001b[0mna_sentinel\u001b[0m\u001b[1;33m=\u001b[0m\u001b[0mna_sentinel\u001b[0m\u001b[1;33m,\u001b[0m \u001b[0mna_value\u001b[0m\u001b[1;33m=\u001b[0m\u001b[0mna_value\u001b[0m\u001b[1;33m,\u001b[0m \u001b[0mmask\u001b[0m\u001b[1;33m=\u001b[0m\u001b[0mmask\u001b[0m\u001b[1;33m\u001b[0m\u001b[1;33m\u001b[0m\u001b[0m\n\u001b[0m\u001b[0;32m    565\u001b[0m     )\n\u001b[0;32m    566\u001b[0m \u001b[1;33m\u001b[0m\u001b[0m\n",
      "\u001b[1;31mKeyboardInterrupt\u001b[0m: "
     ]
    }
   ],
   "source": [
    "iCount = 1\n",
    "\n",
    "for index, row in ScriptDF.iterrows():\n",
    "    \n",
    "    name = row['name']\n",
    "    \n",
    "    ScriptRowDF = pd.DataFrame(data=row).T\n",
    "    \n",
    "    #####################################\n",
    "    # Generate Main and Attribute DF\n",
    "    #####################################\n",
    "    \n",
    "    columns=[('description','description'),\n",
    "             ('image','image'),\n",
    "             ('name','name'),\n",
    "             ('attributes','Class'),\n",
    "             ('attributes','Border'),\n",
    "             ('attributes','Wall'),\n",
    "             ('attributes','Head'),\n",
    "             ('attributes','Glasses'),\n",
    "             ('attributes','Smoking'),\n",
    "             ('attributes','Facial Hair')\n",
    "             ]\n",
    "\n",
    "    IntroDF = ScriptRowDF[['description', 'image', 'name']]\n",
    "\n",
    "    ScriptRowDF.columns=pd.MultiIndex.from_tuples(columns)\n",
    "    ScriptRowDF.dropna(axis=1, inplace=True)\n",
    "\n",
    "    ScriptRowDF = ScriptRowDF['attributes']\n",
    "    \n",
    "    \n",
    "    #####################################\n",
    "    # Build JSON String\n",
    "    #####################################\n",
    "    \n",
    "    AttributeStr = '{'\n",
    "    AttributeStr = AttributeStr + '\"name\": \"' + str(IntroDF.iloc[0]['name']) + '\",'\n",
    "    AttributeStr = AttributeStr + '\"description\": \"' + str(IntroDF.iloc[0]['description']) + '\",'\n",
    "    AttributeStr = AttributeStr + '\"image\": \"' + str(IntroDF.iloc[0]['image']) + '\",'\n",
    "    AttributeStr = AttributeStr + '\"attributes\" : ['\n",
    "    #AttributeStr = AttributeStr + '['\n",
    "\n",
    "    for i in ScriptRowDF:\n",
    "\n",
    "        #print({\"trait_type\": i, \"value\": ScriptDF[i][0]})\n",
    "        AttributeStr = AttributeStr + '{\"trait_type\": \"' + str(i) + '\", \"value\": \"' + str(ScriptRowDF.iloc[0][i]) + '\"},'\n",
    "        \n",
    "\n",
    "    AttributeStr = AttributeStr[:len(AttributeStr)-1]\n",
    "    #AttributeStr = AttributeStr + \"]\"\n",
    "    AttributeStr = AttributeStr + \"]}\"\n",
    "    \n",
    "    \n",
    "    #####################################\n",
    "    # Convert to JSON Object and Save\n",
    "    #####################################\n",
    "        \n",
    "    AttributeStr = json.loads(AttributeStr)\n",
    "    AttributeStr\n",
    "    \n",
    "    #with open(name + \".json\", \"w\") as write_file:\n",
    "    with open(str(iCount) + \".json\", \"w\") as write_file:\n",
    "        json.dump(AttributeStr, write_file, indent=4)    \n",
    "        #json.dump(AttributeStr, write_file)    \n",
    "        \n",
    "    iCount = iCount + 1\n",
    "        \n",
    "    #if (i) % 100 == 0:\n",
    "    #    print(str(i) + \" ----> \" + AttributeStr) "
   ]
  },
  {
   "cell_type": "code",
   "execution_count": null,
   "id": "bd0cb345-68db-465f-a0ff-37b907f88105",
   "metadata": {},
   "outputs": [],
   "source": [
    "2+3"
   ]
  },
  {
   "cell_type": "code",
   "execution_count": null,
   "id": "9b09053c-5c08-4001-b278-53c9755c6fde",
   "metadata": {},
   "outputs": [],
   "source": [
    "\n"
   ]
  },
  {
   "cell_type": "code",
   "execution_count": null,
   "id": "3d53ab64-b009-4b83-8758-4339a5b92913",
   "metadata": {},
   "outputs": [],
   "source": []
  },
  {
   "cell_type": "code",
   "execution_count": null,
   "id": "ac06c8f8-2300-4d56-8341-90e5d6114ae8",
   "metadata": {},
   "outputs": [],
   "source": []
  },
  {
   "cell_type": "code",
   "execution_count": null,
   "id": "ceb526f5-c27e-460a-972e-a5bb64c1ef47",
   "metadata": {},
   "outputs": [],
   "source": []
  },
  {
   "cell_type": "code",
   "execution_count": null,
   "id": "57119d28-77e0-4d87-b8cb-d9c673a26943",
   "metadata": {},
   "outputs": [],
   "source": []
  },
  {
   "cell_type": "code",
   "execution_count": null,
   "id": "ee027986-de44-444a-a1b7-1a896bf485f8",
   "metadata": {},
   "outputs": [],
   "source": []
  },
  {
   "cell_type": "code",
   "execution_count": null,
   "id": "8ef9ac42-bf65-4dc8-a1df-439165f5a628",
   "metadata": {},
   "outputs": [],
   "source": []
  },
  {
   "cell_type": "code",
   "execution_count": null,
   "id": "1f569d19-6a4c-449e-b58d-0180b5157107",
   "metadata": {},
   "outputs": [],
   "source": []
  },
  {
   "cell_type": "code",
   "execution_count": null,
   "id": "81611d85-e25b-48c0-82af-d92dc57eb41b",
   "metadata": {},
   "outputs": [],
   "source": []
  },
  {
   "cell_type": "code",
   "execution_count": null,
   "id": "895059af-b09f-4c50-8e7c-d419d183858e",
   "metadata": {},
   "outputs": [],
   "source": []
  },
  {
   "cell_type": "code",
   "execution_count": null,
   "id": "9dce3870-236e-4ffc-81b0-55078856eb9c",
   "metadata": {},
   "outputs": [],
   "source": []
  },
  {
   "cell_type": "code",
   "execution_count": null,
   "id": "63d9f71b-7034-4083-87d5-53b581d0cbf2",
   "metadata": {},
   "outputs": [],
   "source": []
  },
  {
   "cell_type": "code",
   "execution_count": null,
   "id": "d726a1dc-5821-45ce-973a-76e10688ecd4",
   "metadata": {},
   "outputs": [],
   "source": []
  },
  {
   "cell_type": "markdown",
   "id": "2e5bd853-b812-44e2-b583-b3477f2b25b1",
   "metadata": {},
   "source": [
    "# Old Code"
   ]
  },
  {
   "cell_type": "code",
   "execution_count": null,
   "id": "fb769791-2739-47a7-8608-d9771d5a0400",
   "metadata": {},
   "outputs": [],
   "source": [
    "IntroDF['description']"
   ]
  },
  {
   "cell_type": "code",
   "execution_count": null,
   "id": "e5c00f77-ae76-4eaf-8c5b-b7b45aa78b0b",
   "metadata": {},
   "outputs": [],
   "source": [
    "ScriptRowDF"
   ]
  },
  {
   "cell_type": "code",
   "execution_count": null,
   "id": "2c3e40e1-7f82-485d-bd92-539a7bcd9a3d",
   "metadata": {},
   "outputs": [],
   "source": [
    "IntroDF"
   ]
  },
  {
   "cell_type": "code",
   "execution_count": null,
   "id": "d9497ed7-9c2a-4e60-8d17-33595699759c",
   "metadata": {},
   "outputs": [],
   "source": [
    "IntroDF.iloc[0]['description']"
   ]
  },
  {
   "cell_type": "code",
   "execution_count": null,
   "id": "4900ea9a-5f86-4cf5-b57f-fc2aa163495e",
   "metadata": {},
   "outputs": [],
   "source": [
    "name"
   ]
  },
  {
   "cell_type": "code",
   "execution_count": null,
   "id": "de33597c-1e96-4ae0-a0b0-544b3e8eb47d",
   "metadata": {},
   "outputs": [],
   "source": []
  },
  {
   "cell_type": "code",
   "execution_count": null,
   "id": "431ee431-8408-43d7-b7e1-c0d8dafd40a4",
   "metadata": {},
   "outputs": [],
   "source": []
  },
  {
   "cell_type": "code",
   "execution_count": null,
   "id": "d16b1268-2b45-4253-99d3-48745189310e",
   "metadata": {},
   "outputs": [],
   "source": [
    "    \n",
    "    ScriptDF = ScriptDF.head(1)\n",
    "\n",
    "    columns=[('description','description'),\n",
    "             ('external_url','external_url'),\n",
    "             ('Path','Path'),\n",
    "             ('name','name'),\n",
    "             ('attributes','Class'),\n",
    "             ('attributes','Border'),\n",
    "             ('attributes','Wall'),\n",
    "             ('attributes','Head'),\n",
    "             ('attributes','Glasses'),\n",
    "             ('attributes','Smoking'),\n",
    "             ('attributes','Facial Hair')\n",
    "             ]\n",
    "\n",
    "    IntroDF = ScriptDF[['description', 'Path', 'name']]\n",
    "\n",
    "    ScriptDF.columns=pd.MultiIndex.from_tuples(columns)\n",
    "    ScriptDF.dropna(axis=1, inplace=True)\n",
    "\n",
    "    ScriptDF = ScriptDF['attributes']"
   ]
  },
  {
   "cell_type": "code",
   "execution_count": null,
   "id": "b2bca737-c9b8-4ff3-95da-958e29a29155",
   "metadata": {},
   "outputs": [],
   "source": []
  },
  {
   "cell_type": "code",
   "execution_count": null,
   "id": "dc3ba0de-66c5-4889-aab8-65f4937b154a",
   "metadata": {},
   "outputs": [],
   "source": []
  },
  {
   "cell_type": "code",
   "execution_count": null,
   "id": "7d9bad6c-7d47-4207-9d3f-cc5c6b65845e",
   "metadata": {},
   "outputs": [],
   "source": [
    "IntroDF"
   ]
  },
  {
   "cell_type": "code",
   "execution_count": null,
   "id": "63a588b8-b3d7-49f7-ac7e-622e78bd689d",
   "metadata": {},
   "outputs": [],
   "source": [
    "ScriptDF"
   ]
  },
  {
   "cell_type": "code",
   "execution_count": null,
   "id": "ee3caf05-d218-4e61-9549-011cf3e4f89c",
   "metadata": {},
   "outputs": [],
   "source": [
    "#result = ScriptDF.to_json(orient='records')\n",
    "#parsed = json.loads(result)\n",
    "#Intro = json.dumps([row.dropna().to_dict() for index, row in IntroDF.iterrows()], indent=4)\n",
    "#print(Intro)"
   ]
  },
  {
   "cell_type": "markdown",
   "id": "54da450b-d6b6-4b98-936d-c9e487273e94",
   "metadata": {},
   "source": [
    "# Create JSON"
   ]
  },
  {
   "cell_type": "code",
   "execution_count": null,
   "id": "ec07f815-2022-4b7c-9d8a-a1fe0c0f37c7",
   "metadata": {},
   "outputs": [],
   "source": [
    "AttributeStr = '{'\n",
    "AttributeStr = AttributeStr + '\"description\": \"' + IntroDF['description'][0] + '\",'\n",
    "#AttributeStr = AttributeStr + '\"Path\": \"' + IntroDF['Path'][0] + '\",'\n",
    "AttributeStr = AttributeStr + '\"name\": \"' + IntroDF['name'][0] + '\",'\n",
    "AttributeStr = AttributeStr + '\"attributes\" : ['\n",
    "\n",
    "for i in ScriptDF:\n",
    "    \n",
    "    #print({\"trait_type\": i, \"value\": ScriptDF[i][0]})\n",
    "    AttributeStr = AttributeStr + '{\"trait_type\": \"' + i + '\", \"value\": \"' + ScriptDF[i][0] + '\"},'\n",
    "\n",
    "    \n",
    "AttributeStr = AttributeStr[:len(AttributeStr)-1]\n",
    "AttributeStr = AttributeStr + \"]}\"\n",
    "AttributeStr = json.loads(AttributeStr)\n",
    "AttributeStr"
   ]
  },
  {
   "cell_type": "code",
   "execution_count": null,
   "id": "676c2311-4210-4056-8446-a64882ee8904",
   "metadata": {},
   "outputs": [],
   "source": []
  },
  {
   "cell_type": "code",
   "execution_count": null,
   "id": "f5941719-b4e7-4236-bf3d-f18ef9523805",
   "metadata": {},
   "outputs": [],
   "source": [
    "Intro = IntroDF.to_json(orient='records')\n",
    "Intro = json.loads(Intro)\n",
    "\n",
    "#Script = ScriptDF.to_json(orient='records', indent=0)\n",
    "#Script = json.loads(Script)\n",
    "\n",
    "Intro[0]['attributes'] = AttributeStr\n",
    "\n",
    "Intro[0]"
   ]
  },
  {
   "cell_type": "code",
   "execution_count": null,
   "id": "064bca08-160a-469b-862e-413975dbad48",
   "metadata": {},
   "outputs": [],
   "source": [
    "with open(\"0000.json\", \"w\") as write_file:\n",
    "    json.dump(Intro[0], write_file, indent=4)"
   ]
  },
  {
   "cell_type": "code",
   "execution_count": null,
   "id": "b2fa6c5f-fc99-4174-9175-d586aa105526",
   "metadata": {},
   "outputs": [],
   "source": [
    "varresult = json.merge(Intro, AttributeStr)\n",
    "varresult"
   ]
  },
  {
   "cell_type": "code",
   "execution_count": null,
   "id": "8b5d2591-3c67-41df-9a3a-4d69176f693f",
   "metadata": {},
   "outputs": [],
   "source": [
    "AttributeStr"
   ]
  },
  {
   "cell_type": "code",
   "execution_count": null,
   "id": "f9521044-2165-4668-ac63-a5e148ac6e27",
   "metadata": {},
   "outputs": [],
   "source": []
  },
  {
   "cell_type": "code",
   "execution_count": null,
   "id": "537dba43-3aef-4e6a-acdc-18788ac3f573",
   "metadata": {},
   "outputs": [],
   "source": []
  },
  {
   "cell_type": "code",
   "execution_count": null,
   "id": "42072341-a206-4599-9946-b9f86a4247dd",
   "metadata": {},
   "outputs": [],
   "source": []
  },
  {
   "cell_type": "code",
   "execution_count": null,
   "id": "3d8d94f4-bc3e-4051-a7f9-7f7f4790a036",
   "metadata": {},
   "outputs": [],
   "source": []
  },
  {
   "cell_type": "code",
   "execution_count": null,
   "id": "c35c5d89-3006-4d5b-a36e-f49f9744e60d",
   "metadata": {},
   "outputs": [],
   "source": [
    "{\n",
    "  \"description\": \"Friendly OpenSea Creature that enjoys long swims in the ocean.\", \n",
    "  \"external_url\": \"https://openseacreatures.io/3\", \n",
    "  \"image\": \"https://storage.googleapis.com/opensea-prod.appspot.com/puffs/3.png\", \n",
    "  \"name\": \"Dave Starbelly\",\n",
    "  \"attributes\": [ \n",
    "    {\n",
    "      \"trait_type\": \"Base\", \n",
    "      \"value\": \"Starfish\"\n",
    "    }, \n",
    "    {\n",
    "      \"trait_type\": \"Eyes\", \n",
    "      \"value\": \"Big\"\n",
    "    },   \n",
    "  ], \n",
    "}"
   ]
  },
  {
   "cell_type": "code",
   "execution_count": null,
   "id": "e260fb60-7bd1-4c4d-b31e-55a5a99ad69c",
   "metadata": {},
   "outputs": [],
   "source": []
  },
  {
   "cell_type": "code",
   "execution_count": null,
   "id": "ddb7700e-44e2-40d0-9931-800cb61bca09",
   "metadata": {},
   "outputs": [],
   "source": []
  },
  {
   "cell_type": "code",
   "execution_count": null,
   "id": "789f1e5f-2dcd-4914-86e5-422f7f3143a3",
   "metadata": {},
   "outputs": [],
   "source": []
  },
  {
   "cell_type": "code",
   "execution_count": null,
   "id": "95b2364d-776b-401b-86d0-e37e10b79cd8",
   "metadata": {},
   "outputs": [],
   "source": [
    "df = pd.DataFrame([['HI', 'Temp'], ['HI', 'Precip'],\n",
    "                   ['NJ', 'Temp'], ['NJ', 'Precip']],\n",
    "                  columns=['a', 'b'])\n",
    "df"
   ]
  },
  {
   "cell_type": "code",
   "execution_count": null,
   "id": "c3a67c54-5f38-4917-b51a-fe2042c384f2",
   "metadata": {},
   "outputs": [],
   "source": [
    "pd.MultiIndex.from_frame(df)"
   ]
  },
  {
   "cell_type": "code",
   "execution_count": null,
   "id": "238fb751-3ba0-4a4a-ad60-67b57dc3434f",
   "metadata": {},
   "outputs": [],
   "source": [
    "df=pd.DataFrame({'a':[1,2,3],'b':[4,5,6]})\n",
    "\n",
    "columns=[('c','a'),('c','b')]\n",
    "\n",
    "df.columns=pd.MultiIndex.from_tuples(columns)"
   ]
  },
  {
   "cell_type": "code",
   "execution_count": null,
   "id": "7984abba-a2dc-473e-83be-6a7b3567d9d3",
   "metadata": {},
   "outputs": [],
   "source": [
    "df"
   ]
  },
  {
   "cell_type": "code",
   "execution_count": null,
   "id": "b5a50e43-dfab-4106-83cf-82ade651defc",
   "metadata": {},
   "outputs": [],
   "source": [
    "fruit_json = {\"apple\" : 1, \"orange\" : 2}\n",
    "key = \"banana\"\n",
    "value = 3\n",
    "\n",
    "fruit_json[key] = value\n",
    "\n",
    "print(fruit_json)"
   ]
  },
  {
   "cell_type": "code",
   "execution_count": null,
   "id": "d50898bb-8418-4d9f-8afd-95f90009222d",
   "metadata": {},
   "outputs": [],
   "source": [
    "Intro[0]['attributes'] = "
   ]
  },
  {
   "cell_type": "code",
   "execution_count": null,
   "id": "300280fd-8150-42a7-992b-022065cd5a90",
   "metadata": {},
   "outputs": [],
   "source": [
    "Intro[0]['attributes'] = {'trait_type': 'Class', 'value': 'Human'}, {'trait_type': 'Border', 'value': 'Orange'}\n",
    "#{'trait_type': 'Wall', 'value': 'Marked Gray Concrete Wall'}\n",
    "#{'trait_type': 'Head', 'value': 'Crewcut, Black'}\n",
    "Intro[0]['attributes'] = {'trait_type': 'Facial Hair', 'value': 'Beard'}\n",
    "Intro[0]['attributes'] = AttributeStr"
   ]
  },
  {
   "cell_type": "code",
   "execution_count": null,
   "id": "fadde534-ad84-47d5-b907-a1ff0fcd1ba5",
   "metadata": {},
   "outputs": [],
   "source": [
    "Intro"
   ]
  },
  {
   "cell_type": "code",
   "execution_count": null,
   "id": "b6a3bdac-d214-4e29-af5c-55490c44bf53",
   "metadata": {},
   "outputs": [],
   "source": [
    "AttributeStr = json.loads(AttributeStr)"
   ]
  },
  {
   "cell_type": "code",
   "execution_count": null,
   "id": "1626a4f5-1999-4165-8cb3-f45c74a27ab3",
   "metadata": {},
   "outputs": [],
   "source": []
  }
 ],
 "metadata": {
  "kernelspec": {
   "display_name": "Python 3 (ipykernel)",
   "language": "python",
   "name": "python3"
  },
  "language_info": {
   "codemirror_mode": {
    "name": "ipython",
    "version": 3
   },
   "file_extension": ".py",
   "mimetype": "text/x-python",
   "name": "python",
   "nbconvert_exporter": "python",
   "pygments_lexer": "ipython3",
   "version": "3.7.11"
  }
 },
 "nbformat": 4,
 "nbformat_minor": 5
}
